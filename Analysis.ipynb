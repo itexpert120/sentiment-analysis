{
 "cells": [
  {
   "cell_type": "code",
   "execution_count": 24,
   "id": "68a62082-2360-4485-89a8-5c0d785b8d17",
   "metadata": {},
   "outputs": [],
   "source": [
    "import pandas as pd"
   ]
  },
  {
   "cell_type": "code",
   "execution_count": 25,
   "id": "43b2f9ad-c94c-4c87-a41f-a04c74e45001",
   "metadata": {},
   "outputs": [],
   "source": [
    "df = pd.read_csv(\"Womens Clothing E-Commerce Reviews.csv\", index_col=0)"
   ]
  },
  {
   "cell_type": "code",
   "execution_count": 26,
   "id": "a6e30a7c-2dbf-404b-bfe3-c03c8de97077",
   "metadata": {},
   "outputs": [
    {
     "data": {
      "text/plain": [
       "(23486, 10)"
      ]
     },
     "execution_count": 26,
     "metadata": {},
     "output_type": "execute_result"
    }
   ],
   "source": [
    "df.head()\n",
    "df.shape"
   ]
  },
  {
   "cell_type": "code",
   "execution_count": 27,
   "id": "72e0171b-ca35-477a-90f2-d93454c71d8e",
   "metadata": {},
   "outputs": [],
   "source": [
    "df = df[[\"Review Text\", \"Rating\"]]\n",
    "df.columns = [\"Review\", \"Rating\"]"
   ]
  },
  {
   "cell_type": "code",
   "execution_count": 44,
   "id": "773c308f",
   "metadata": {},
   "outputs": [
    {
     "data": {
      "text/plain": [
       "Review       0\n",
       "Rating       0\n",
       "Sentiment    0\n",
       "dtype: int64"
      ]
     },
     "execution_count": 44,
     "metadata": {},
     "output_type": "execute_result"
    }
   ],
   "source": [
    "df.isna().sum()"
   ]
  },
  {
   "cell_type": "code",
   "execution_count": 28,
   "id": "973d871a-83a7-4bad-bd9e-c73ac5d07dc8",
   "metadata": {},
   "outputs": [],
   "source": [
    "def create_sentiment(rating):\n",
    "    if rating < 3:\n",
    "        return -1\n",
    "    elif rating > 3:\n",
    "        return 1\n",
    "    else:\n",
    "        return 0"
   ]
  },
  {
   "cell_type": "code",
   "execution_count": 29,
   "id": "beb49ed2-a7b2-4fb0-92bd-81ed78e333e2",
   "metadata": {},
   "outputs": [],
   "source": [
    "df[\"Sentiment\"] = df[\"Rating\"].apply(create_sentiment)"
   ]
  },
  {
   "cell_type": "code",
   "execution_count": 30,
   "id": "39902be4-53ef-4e18-b54c-e982cb51b015",
   "metadata": {},
   "outputs": [
    {
     "data": {
      "text/html": [
       "<div>\n",
       "<style scoped>\n",
       "    .dataframe tbody tr th:only-of-type {\n",
       "        vertical-align: middle;\n",
       "    }\n",
       "\n",
       "    .dataframe tbody tr th {\n",
       "        vertical-align: top;\n",
       "    }\n",
       "\n",
       "    .dataframe thead th {\n",
       "        text-align: right;\n",
       "    }\n",
       "</style>\n",
       "<table border=\"1\" class=\"dataframe\">\n",
       "  <thead>\n",
       "    <tr style=\"text-align: right;\">\n",
       "      <th></th>\n",
       "      <th>Review</th>\n",
       "      <th>Rating</th>\n",
       "      <th>Sentiment</th>\n",
       "    </tr>\n",
       "  </thead>\n",
       "  <tbody>\n",
       "    <tr>\n",
       "      <th>0</th>\n",
       "      <td>Absolutely wonderful - silky and sexy and comf...</td>\n",
       "      <td>4</td>\n",
       "      <td>1</td>\n",
       "    </tr>\n",
       "    <tr>\n",
       "      <th>1</th>\n",
       "      <td>Love this dress!  it's sooo pretty.  i happene...</td>\n",
       "      <td>5</td>\n",
       "      <td>1</td>\n",
       "    </tr>\n",
       "    <tr>\n",
       "      <th>2</th>\n",
       "      <td>I had such high hopes for this dress and reall...</td>\n",
       "      <td>3</td>\n",
       "      <td>0</td>\n",
       "    </tr>\n",
       "    <tr>\n",
       "      <th>3</th>\n",
       "      <td>I love, love, love this jumpsuit. it's fun, fl...</td>\n",
       "      <td>5</td>\n",
       "      <td>1</td>\n",
       "    </tr>\n",
       "    <tr>\n",
       "      <th>4</th>\n",
       "      <td>This shirt is very flattering to all due to th...</td>\n",
       "      <td>5</td>\n",
       "      <td>1</td>\n",
       "    </tr>\n",
       "  </tbody>\n",
       "</table>\n",
       "</div>"
      ],
      "text/plain": [
       "                                              Review  Rating  Sentiment\n",
       "0  Absolutely wonderful - silky and sexy and comf...       4          1\n",
       "1  Love this dress!  it's sooo pretty.  i happene...       5          1\n",
       "2  I had such high hopes for this dress and reall...       3          0\n",
       "3  I love, love, love this jumpsuit. it's fun, fl...       5          1\n",
       "4  This shirt is very flattering to all due to th...       5          1"
      ]
     },
     "execution_count": 30,
     "metadata": {},
     "output_type": "execute_result"
    }
   ],
   "source": [
    "df.head()"
   ]
  },
  {
   "cell_type": "code",
   "execution_count": 31,
   "id": "7eb7be55-c0d4-428e-a91c-e65520febb07",
   "metadata": {},
   "outputs": [],
   "source": [
    "from sklearn.feature_extraction.text import re\n",
    "\n",
    "\n",
    "def clean_data(review):\n",
    "    # remove all non alphanumeric and non whitespace characters\n",
    "    no_punc = re.sub(r\"[^\\w\\s]\", \"\", str(review))\n",
    "    # remove all digits from string\n",
    "    no_digits = \"\".join([i for i in no_punc if not i.isdigit()])\n",
    "    return no_digits"
   ]
  },
  {
   "cell_type": "code",
   "execution_count": 32,
   "id": "1f88c10b-4a5f-4d37-a6e4-ef7fe861c7c9",
   "metadata": {},
   "outputs": [],
   "source": [
    "df[\"Review\"] = df[\"Review\"].apply(clean_data)"
   ]
  },
  {
   "cell_type": "code",
   "execution_count": 33,
   "id": "e7b47e90-4ba6-4f7e-af60-1aab7f3a9dfc",
   "metadata": {},
   "outputs": [
    {
     "data": {
      "text/plain": [
       "'I love love love this jumpsuit its fun flirty and fabulous every time i wear it i get nothing but great compliments'"
      ]
     },
     "execution_count": 33,
     "metadata": {},
     "output_type": "execute_result"
    }
   ],
   "source": [
    "df[\"Review\"][3]"
   ]
  },
  {
   "cell_type": "code",
   "execution_count": 34,
   "id": "ad15d7fd-d6d7-4771-98fa-c26309f69551",
   "metadata": {},
   "outputs": [],
   "source": [
    "from sklearn.feature_extraction.text import TfidfVectorizer"
   ]
  },
  {
   "cell_type": "code",
   "execution_count": 35,
   "id": "890e96ac-05f0-477d-8319-9ea3e28938a9",
   "metadata": {},
   "outputs": [],
   "source": [
    "tfidf = TfidfVectorizer(stop_words=\"english\")"
   ]
  },
  {
   "cell_type": "code",
   "execution_count": 36,
   "id": "99e73aec-016b-453a-b151-a9e5ebb5d712",
   "metadata": {},
   "outputs": [],
   "source": [
    "X = tfidf.fit_transform(df[\"Review\"])"
   ]
  },
  {
   "cell_type": "code",
   "execution_count": 37,
   "id": "b7cca8f3-fc42-424f-b2c3-ce7232581138",
   "metadata": {},
   "outputs": [],
   "source": [
    "from sklearn.model_selection import train_test_split"
   ]
  },
  {
   "cell_type": "code",
   "execution_count": 38,
   "id": "2e1a6bf2-5d19-44fe-8f0b-778bda574f72",
   "metadata": {},
   "outputs": [],
   "source": [
    "y = df[\"Sentiment\"]  # target variable\n",
    "X_train, X_test, y_train, y_test = train_test_split(X, y)"
   ]
  },
  {
   "cell_type": "code",
   "execution_count": 39,
   "id": "49187085-16a4-43bb-9b76-79faca67c002",
   "metadata": {},
   "outputs": [],
   "source": [
    "from sklearn.linear_model import LogisticRegression\n",
    "\n",
    "lr = LogisticRegression(solver=\"saga\")\n",
    "lr.fit(X_train, y_train)  # fit the model\n",
    "preds = lr.predict(X_test)  # make predictions"
   ]
  },
  {
   "cell_type": "code",
   "execution_count": 40,
   "id": "b016a36e-ddd7-4c07-a242-034ac60fdbe0",
   "metadata": {},
   "outputs": [
    {
     "data": {
      "text/plain": [
       "0.8245912806539509"
      ]
     },
     "execution_count": 40,
     "metadata": {},
     "output_type": "execute_result"
    }
   ],
   "source": [
    "from sklearn.metrics import accuracy_score\n",
    "\n",
    "accuracy_score(preds, y_test)  # 0.82"
   ]
  },
  {
   "cell_type": "code",
   "execution_count": 41,
   "id": "55bc01a7",
   "metadata": {},
   "outputs": [
    {
     "name": "stdout",
     "output_type": "stream",
     "text": [
      "Review: This dress is amazing!\n",
      "Predicted Sentiment: Positive\n",
      "\n",
      "Review: I didn't like the quality of this product.\n",
      "Predicted Sentiment: Negative\n",
      "\n",
      "Review: I would not recommend this product to anyone.\n",
      "Predicted Sentiment: Positive\n",
      "\n",
      "Review: Absolutely love it!This is the best product I have ever purchased!\n",
      "Predicted Sentiment: Positive\n",
      "\n",
      "Review: I am extremely disappointed with this product.\n",
      "Predicted Sentiment: Negative\n",
      "\n",
      "Review: The quality of this product is top-notch.\n",
      "Predicted Sentiment: Negative\n",
      "\n",
      "Review: I regret buying this product.\n",
      "Predicted Sentiment: Positive\n",
      "\n",
      "Review: This product is worth every penny.\n",
      "Predicted Sentiment: Positive\n",
      "\n",
      "Review: I wouldn't buy this product again.\n",
      "Predicted Sentiment: Negative\n",
      "\n",
      "Review: I am in love with this product!\n",
      "Predicted Sentiment: Positive\n",
      "\n",
      "Review: This is the worst product I have ever used.\n",
      "Predicted Sentiment: Negative\n",
      "\n",
      "Review: I highly recommend this product to everyone.\n",
      "Predicted Sentiment: Positive\n",
      "\n",
      "Review: I am not satisfied with this product at all.\n",
      "Predicted Sentiment: Positive\n",
      "\n"
     ]
    }
   ],
   "source": [
    "def preprocess_new_data(review):\n",
    "    cleaned_review = clean_data(review)\n",
    "    return cleaned_review\n",
    "\n",
    "new_reviews = [\n",
    "    \"This dress is amazing!\",\n",
    "    \"I didn't like the quality of this product.\",\n",
    "    \"I would not recommend this product to anyone.\",\n",
    "    \"Absolutely love it!\"\n",
    "    \"This is the best product I have ever purchased!\",\n",
    "    \"I am extremely disappointed with this product.\",\n",
    "    \"The quality of this product is top-notch.\",\n",
    "    \"I regret buying this product.\",\n",
    "    \"This product is worth every penny.\",\n",
    "    \"I wouldn't buy this product again.\",\n",
    "    \"I am in love with this product!\",\n",
    "    \"This is the worst product I have ever used.\",\n",
    "    \"I highly recommend this product to everyone.\",\n",
    "    \"I am not satisfied with this product at all.\"\n",
    "]\n",
    "\n",
    "preprocessed_reviews = [preprocess_new_data(review) for review in new_reviews]\n",
    "X_new = tfidf.transform(preprocessed_reviews)\n",
    "new_preds = lr.predict(X_new)\n",
    "\n",
    "for review, sentiment in zip(new_reviews, new_preds):\n",
    "    print(f\"Review: {review}\")\n",
    "    print(f\"Predicted Sentiment: {'Positive' if sentiment == 1 else 'Neutral' if sentiment == 0 else 'Negative'}\")\n",
    "    print()"
   ]
  },
  {
   "cell_type": "code",
   "execution_count": 42,
   "id": "0670444d",
   "metadata": {},
   "outputs": [
    {
     "data": {
      "image/png": "[encoded data removed]",
      "text/plain": [
       "<Figure size 800x600 with 1 Axes>"
      ]
     },
     "metadata": {},
     "output_type": "display_data"
    },
    {
     "data": {
      "image/png": "[encoded data removed]",
      "text/plain": [
       "<Figure size 800x600 with 1 Axes>"
      ]
     },
     "metadata": {},
     "output_type": "display_data"
    }
   ],
   "source": [
    "import matplotlib.pyplot as plt\n",
    "\n",
    "# Distribution of sentiment in the original dataset\n",
    "sentiment_counts = df['Sentiment'].value_counts()\n",
    "plt.figure(figsize=(8, 6))\n",
    "plt.bar(sentiment_counts.index, sentiment_counts.values, color=['red', 'grey', 'green'])\n",
    "plt.title('Distribution of Sentiment in Original Dataset')\n",
    "plt.xlabel('Sentiment')\n",
    "plt.ylabel('Count')\n",
    "plt.xticks([-1, 0, 1], ['Negative', 'Neutral', 'Positive'])\n",
    "plt.show()\n",
    "\n",
    "# Predicted sentiment for new reviews\n",
    "predicted_sentiments = ['Positive' if sentiment == 1 else 'Neutral' if sentiment == 0 else 'Negative' for sentiment in new_preds]\n",
    "sentiment_counts_new = pd.Series(predicted_sentiments).value_counts()\n",
    "plt.figure(figsize=(8, 6))\n",
    "plt.bar(sentiment_counts_new.index, sentiment_counts_new.values, color=['green', 'grey', 'red'])\n",
    "plt.title('Predicted Sentiment for New Reviews')\n",
    "plt.xlabel('Sentiment')\n",
    "plt.ylabel('Count')\n",
    "plt.show()\n"
   ]
  },
  {
   "cell_type": "code",
   "execution_count": null,
   "id": "bf75ea06",
   "metadata": {},
   "outputs": [],
   "source": []
  }
 ],
 "metadata": {
  "kernelspec": {
   "display_name": "Python 3 (ipykernel)",
   "language": "python",
   "name": "python3"
  },
  "language_info": {
   "codemirror_mode": {
    "name": "ipython",
    "version": 3
   },
   "file_extension": ".py",
   "mimetype": "text/x-python",
   "name": "python",
   "nbconvert_exporter": "python",
   "pygments_lexer": "ipython3",
   "version": "3.11.7"
  }
 },
 "nbformat": 4,
 "nbformat_minor": 5
}
