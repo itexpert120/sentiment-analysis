{
 "cells": [
  {
   "cell_type": "markdown",
   "id": "004af6ff",
   "metadata": {
    "_cell_guid": "b1076dfc-b9ad-4769-8c92-a6c4dae69d19",
    "_uuid": "8f2839f25d086af736a60e9eeb907d3b93b6e0e5",
    "papermill": {
     "duration": 0.008389,
     "end_time": "2024-05-06T07:06:40.918236",
     "exception": false,
     "start_time": "2024-05-06T07:06:40.909847",
     "status": "completed"
    },
    "tags": []
   },
   "source": [
    "# Importing Libraries"
   ]
  },
  {
   "cell_type": "code",
   "execution_count": 1,
   "id": "f5437287",
   "metadata": {
    "execution": {
     "iopub.execute_input": "2024-05-06T07:06:40.936136Z",
     "iopub.status.busy": "2024-05-06T07:06:40.935695Z",
     "iopub.status.idle": "2024-05-06T07:06:41.982101Z",
     "shell.execute_reply": "2024-05-06T07:06:41.980863Z"
    },
    "papermill": {
     "duration": 1.059094,
     "end_time": "2024-05-06T07:06:41.985179",
     "exception": false,
     "start_time": "2024-05-06T07:06:40.926085",
     "status": "completed"
    },
    "tags": []
   },
   "outputs": [],
   "source": [
    "# pandas for dataframe\n",
    "import pandas as pd"
   ]
  },
  {
   "cell_type": "code",
   "execution_count": 2,
   "id": "6d48dd21",
   "metadata": {
    "execution": {
     "iopub.execute_input": "2024-05-06T07:06:42.002162Z",
     "iopub.status.busy": "2024-05-06T07:06:42.001495Z",
     "iopub.status.idle": "2024-05-06T07:06:42.350063Z",
     "shell.execute_reply": "2024-05-06T07:06:42.349015Z"
    },
    "papermill": {
     "duration": 0.360068,
     "end_time": "2024-05-06T07:06:42.352599",
     "exception": false,
     "start_time": "2024-05-06T07:06:41.992531",
     "status": "completed"
    },
    "tags": []
   },
   "outputs": [
    {
     "data": {
      "text/html": [
       "<div>\n",
       "<style scoped>\n",
       "    .dataframe tbody tr th:only-of-type {\n",
       "        vertical-align: middle;\n",
       "    }\n",
       "\n",
       "    .dataframe tbody tr th {\n",
       "        vertical-align: top;\n",
       "    }\n",
       "\n",
       "    .dataframe thead th {\n",
       "        text-align: right;\n",
       "    }\n",
       "</style>\n",
       "<table border=\"1\" class=\"dataframe\">\n",
       "  <thead>\n",
       "    <tr style=\"text-align: right;\">\n",
       "      <th></th>\n",
       "      <th>Clothing ID</th>\n",
       "      <th>Age</th>\n",
       "      <th>Title</th>\n",
       "      <th>Review Text</th>\n",
       "      <th>Rating</th>\n",
       "      <th>Recommended IND</th>\n",
       "      <th>Positive Feedback Count</th>\n",
       "      <th>Division Name</th>\n",
       "      <th>Department Name</th>\n",
       "      <th>Class Name</th>\n",
       "    </tr>\n",
       "  </thead>\n",
       "  <tbody>\n",
       "    <tr>\n",
       "      <th>0</th>\n",
       "      <td>767</td>\n",
       "      <td>33</td>\n",
       "      <td>NaN</td>\n",
       "      <td>Absolutely wonderful - silky and sexy and comf...</td>\n",
       "      <td>4</td>\n",
       "      <td>1</td>\n",
       "      <td>0</td>\n",
       "      <td>Initmates</td>\n",
       "      <td>Intimate</td>\n",
       "      <td>Intimates</td>\n",
       "    </tr>\n",
       "    <tr>\n",
       "      <th>1</th>\n",
       "      <td>1080</td>\n",
       "      <td>34</td>\n",
       "      <td>NaN</td>\n",
       "      <td>Love this dress!  it's sooo pretty.  i happene...</td>\n",
       "      <td>5</td>\n",
       "      <td>1</td>\n",
       "      <td>4</td>\n",
       "      <td>General</td>\n",
       "      <td>Dresses</td>\n",
       "      <td>Dresses</td>\n",
       "    </tr>\n",
       "    <tr>\n",
       "      <th>2</th>\n",
       "      <td>1077</td>\n",
       "      <td>60</td>\n",
       "      <td>Some major design flaws</td>\n",
       "      <td>I had such high hopes for this dress and reall...</td>\n",
       "      <td>3</td>\n",
       "      <td>0</td>\n",
       "      <td>0</td>\n",
       "      <td>General</td>\n",
       "      <td>Dresses</td>\n",
       "      <td>Dresses</td>\n",
       "    </tr>\n",
       "    <tr>\n",
       "      <th>3</th>\n",
       "      <td>1049</td>\n",
       "      <td>50</td>\n",
       "      <td>My favorite buy!</td>\n",
       "      <td>I love, love, love this jumpsuit. it's fun, fl...</td>\n",
       "      <td>5</td>\n",
       "      <td>1</td>\n",
       "      <td>0</td>\n",
       "      <td>General Petite</td>\n",
       "      <td>Bottoms</td>\n",
       "      <td>Pants</td>\n",
       "    </tr>\n",
       "    <tr>\n",
       "      <th>4</th>\n",
       "      <td>847</td>\n",
       "      <td>47</td>\n",
       "      <td>Flattering shirt</td>\n",
       "      <td>This shirt is very flattering to all due to th...</td>\n",
       "      <td>5</td>\n",
       "      <td>1</td>\n",
       "      <td>6</td>\n",
       "      <td>General</td>\n",
       "      <td>Tops</td>\n",
       "      <td>Blouses</td>\n",
       "    </tr>\n",
       "  </tbody>\n",
       "</table>\n",
       "</div>"
      ],
      "text/plain": [
       "   Clothing ID  Age                    Title  \\\n",
       "0          767   33                      NaN   \n",
       "1         1080   34                      NaN   \n",
       "2         1077   60  Some major design flaws   \n",
       "3         1049   50         My favorite buy!   \n",
       "4          847   47         Flattering shirt   \n",
       "\n",
       "                                         Review Text  Rating  Recommended IND  \\\n",
       "0  Absolutely wonderful - silky and sexy and comf...       4                1   \n",
       "1  Love this dress!  it's sooo pretty.  i happene...       5                1   \n",
       "2  I had such high hopes for this dress and reall...       3                0   \n",
       "3  I love, love, love this jumpsuit. it's fun, fl...       5                1   \n",
       "4  This shirt is very flattering to all due to th...       5                1   \n",
       "\n",
       "   Positive Feedback Count   Division Name Department Name Class Name  \n",
       "0                        0       Initmates        Intimate  Intimates  \n",
       "1                        4         General         Dresses    Dresses  \n",
       "2                        0         General         Dresses    Dresses  \n",
       "3                        0  General Petite         Bottoms      Pants  \n",
       "4                        6         General            Tops    Blouses  "
      ]
     },
     "execution_count": 2,
     "metadata": {},
     "output_type": "execute_result"
    }
   ],
   "source": [
    "df = pd.read_csv(\"/kaggle/input/womens-ecommerce-clothing-reviews/Womens Clothing E-Commerce Reviews.csv\", index_col=0)\n",
    "df.head()"
   ]
  },
  {
   "cell_type": "code",
   "execution_count": 3,
   "id": "9c970cf0",
   "metadata": {
    "execution": {
     "iopub.execute_input": "2024-05-06T07:06:42.370205Z",
     "iopub.status.busy": "2024-05-06T07:06:42.369698Z",
     "iopub.status.idle": "2024-05-06T07:06:42.377502Z",
     "shell.execute_reply": "2024-05-06T07:06:42.376328Z"
    },
    "papermill": {
     "duration": 0.019828,
     "end_time": "2024-05-06T07:06:42.380347",
     "exception": false,
     "start_time": "2024-05-06T07:06:42.360519",
     "status": "completed"
    },
    "tags": []
   },
   "outputs": [
    {
     "data": {
      "text/plain": [
       "(23486, 10)"
      ]
     },
     "execution_count": 3,
     "metadata": {},
     "output_type": "execute_result"
    }
   ],
   "source": [
    "df.shape"
   ]
  },
  {
   "cell_type": "code",
   "execution_count": 4,
   "id": "e64d50c8",
   "metadata": {
    "execution": {
     "iopub.execute_input": "2024-05-06T07:06:42.399356Z",
     "iopub.status.busy": "2024-05-06T07:06:42.398404Z",
     "iopub.status.idle": "2024-05-06T07:06:42.407891Z",
     "shell.execute_reply": "2024-05-06T07:06:42.406903Z"
    },
    "papermill": {
     "duration": 0.02211,
     "end_time": "2024-05-06T07:06:42.410596",
     "exception": false,
     "start_time": "2024-05-06T07:06:42.388486",
     "status": "completed"
    },
    "tags": []
   },
   "outputs": [],
   "source": [
    "df = df.rename(columns={'Clothing ID': 'Clothing_ID','Review Text': 'Review_Text','Recommended IND': 'Recommended_IND', \n",
    "                            'Positive Feedback Count': 'Positive_Feedback_Count', 'Division Name': 'Division_Name',\n",
    "                            'Department Name': 'Department_Name', 'Class Name': 'Class_Name'})"
   ]
  },
  {
   "cell_type": "code",
   "execution_count": 5,
   "id": "5de1d280",
   "metadata": {
    "execution": {
     "iopub.execute_input": "2024-05-06T07:06:42.428236Z",
     "iopub.status.busy": "2024-05-06T07:06:42.427753Z",
     "iopub.status.idle": "2024-05-06T07:06:42.445563Z",
     "shell.execute_reply": "2024-05-06T07:06:42.444353Z"
    },
    "papermill": {
     "duration": 0.029718,
     "end_time": "2024-05-06T07:06:42.448148",
     "exception": false,
     "start_time": "2024-05-06T07:06:42.418430",
     "status": "completed"
    },
    "tags": []
   },
   "outputs": [
    {
     "data": {
      "text/html": [
       "<div>\n",
       "<style scoped>\n",
       "    .dataframe tbody tr th:only-of-type {\n",
       "        vertical-align: middle;\n",
       "    }\n",
       "\n",
       "    .dataframe tbody tr th {\n",
       "        vertical-align: top;\n",
       "    }\n",
       "\n",
       "    .dataframe thead th {\n",
       "        text-align: right;\n",
       "    }\n",
       "</style>\n",
       "<table border=\"1\" class=\"dataframe\">\n",
       "  <thead>\n",
       "    <tr style=\"text-align: right;\">\n",
       "      <th></th>\n",
       "      <th>Clothing_ID</th>\n",
       "      <th>Age</th>\n",
       "      <th>Title</th>\n",
       "      <th>Review_Text</th>\n",
       "      <th>Rating</th>\n",
       "      <th>Recommended_IND</th>\n",
       "      <th>Positive_Feedback_Count</th>\n",
       "      <th>Division_Name</th>\n",
       "      <th>Department_Name</th>\n",
       "      <th>Class_Name</th>\n",
       "    </tr>\n",
       "  </thead>\n",
       "  <tbody>\n",
       "    <tr>\n",
       "      <th>0</th>\n",
       "      <td>767</td>\n",
       "      <td>33</td>\n",
       "      <td>NaN</td>\n",
       "      <td>Absolutely wonderful - silky and sexy and comf...</td>\n",
       "      <td>4</td>\n",
       "      <td>1</td>\n",
       "      <td>0</td>\n",
       "      <td>Initmates</td>\n",
       "      <td>Intimate</td>\n",
       "      <td>Intimates</td>\n",
       "    </tr>\n",
       "    <tr>\n",
       "      <th>1</th>\n",
       "      <td>1080</td>\n",
       "      <td>34</td>\n",
       "      <td>NaN</td>\n",
       "      <td>Love this dress!  it's sooo pretty.  i happene...</td>\n",
       "      <td>5</td>\n",
       "      <td>1</td>\n",
       "      <td>4</td>\n",
       "      <td>General</td>\n",
       "      <td>Dresses</td>\n",
       "      <td>Dresses</td>\n",
       "    </tr>\n",
       "    <tr>\n",
       "      <th>2</th>\n",
       "      <td>1077</td>\n",
       "      <td>60</td>\n",
       "      <td>Some major design flaws</td>\n",
       "      <td>I had such high hopes for this dress and reall...</td>\n",
       "      <td>3</td>\n",
       "      <td>0</td>\n",
       "      <td>0</td>\n",
       "      <td>General</td>\n",
       "      <td>Dresses</td>\n",
       "      <td>Dresses</td>\n",
       "    </tr>\n",
       "    <tr>\n",
       "      <th>3</th>\n",
       "      <td>1049</td>\n",
       "      <td>50</td>\n",
       "      <td>My favorite buy!</td>\n",
       "      <td>I love, love, love this jumpsuit. it's fun, fl...</td>\n",
       "      <td>5</td>\n",
       "      <td>1</td>\n",
       "      <td>0</td>\n",
       "      <td>General Petite</td>\n",
       "      <td>Bottoms</td>\n",
       "      <td>Pants</td>\n",
       "    </tr>\n",
       "    <tr>\n",
       "      <th>4</th>\n",
       "      <td>847</td>\n",
       "      <td>47</td>\n",
       "      <td>Flattering shirt</td>\n",
       "      <td>This shirt is very flattering to all due to th...</td>\n",
       "      <td>5</td>\n",
       "      <td>1</td>\n",
       "      <td>6</td>\n",
       "      <td>General</td>\n",
       "      <td>Tops</td>\n",
       "      <td>Blouses</td>\n",
       "    </tr>\n",
       "  </tbody>\n",
       "</table>\n",
       "</div>"
      ],
      "text/plain": [
       "   Clothing_ID  Age                    Title  \\\n",
       "0          767   33                      NaN   \n",
       "1         1080   34                      NaN   \n",
       "2         1077   60  Some major design flaws   \n",
       "3         1049   50         My favorite buy!   \n",
       "4          847   47         Flattering shirt   \n",
       "\n",
       "                                         Review_Text  Rating  Recommended_IND  \\\n",
       "0  Absolutely wonderful - silky and sexy and comf...       4                1   \n",
       "1  Love this dress!  it's sooo pretty.  i happene...       5                1   \n",
       "2  I had such high hopes for this dress and reall...       3                0   \n",
       "3  I love, love, love this jumpsuit. it's fun, fl...       5                1   \n",
       "4  This shirt is very flattering to all due to th...       5                1   \n",
       "\n",
       "   Positive_Feedback_Count   Division_Name Department_Name Class_Name  \n",
       "0                        0       Initmates        Intimate  Intimates  \n",
       "1                        4         General         Dresses    Dresses  \n",
       "2                        0         General         Dresses    Dresses  \n",
       "3                        0  General Petite         Bottoms      Pants  \n",
       "4                        6         General            Tops    Blouses  "
      ]
     },
     "execution_count": 5,
     "metadata": {},
     "output_type": "execute_result"
    }
   ],
   "source": [
    "df.head()"
   ]
  },
  {
   "cell_type": "markdown",
   "id": "0d1f6dcb",
   "metadata": {
    "papermill": {
     "duration": 0.00775,
     "end_time": "2024-05-06T07:06:42.463922",
     "exception": false,
     "start_time": "2024-05-06T07:06:42.456172",
     "status": "completed"
    },
    "tags": []
   },
   "source": [
    "# Text Processing"
   ]
  },
  {
   "cell_type": "code",
   "execution_count": 6,
   "id": "3dd370a5",
   "metadata": {
    "execution": {
     "iopub.execute_input": "2024-05-06T07:06:42.482235Z",
     "iopub.status.busy": "2024-05-06T07:06:42.481524Z",
     "iopub.status.idle": "2024-05-06T07:06:42.498900Z",
     "shell.execute_reply": "2024-05-06T07:06:42.497663Z"
    },
    "papermill": {
     "duration": 0.030068,
     "end_time": "2024-05-06T07:06:42.501815",
     "exception": false,
     "start_time": "2024-05-06T07:06:42.471747",
     "status": "completed"
    },
    "tags": []
   },
   "outputs": [],
   "source": [
    "df_train = pd.DataFrame(df[\"Review_Text\"]).dropna()"
   ]
  },
  {
   "cell_type": "code",
   "execution_count": 7,
   "id": "acc7b66c",
   "metadata": {
    "execution": {
     "iopub.execute_input": "2024-05-06T07:06:42.521341Z",
     "iopub.status.busy": "2024-05-06T07:06:42.520602Z",
     "iopub.status.idle": "2024-05-06T07:06:42.545638Z",
     "shell.execute_reply": "2024-05-06T07:06:42.544221Z"
    },
    "papermill": {
     "duration": 0.038548,
     "end_time": "2024-05-06T07:06:42.548904",
     "exception": false,
     "start_time": "2024-05-06T07:06:42.510356",
     "status": "completed"
    },
    "tags": []
   },
   "outputs": [],
   "source": [
    "# regular expression\n",
    "import re\n",
    "\n",
    "contractions = { \n",
    "\"ain't\": \"am not / are not / is not / has not / have not\",\n",
    "\"aren't\": \"are not / am not\",\n",
    "\"can't\": \"cannot\",\n",
    "\"can't've\": \"cannot have\",\n",
    "\"'cause\": \"because\",\n",
    "\"could've\": \"could have\",\n",
    "\"couldn't\": \"could not\",\n",
    "\"couldn't've\": \"could not have\",\n",
    "\"didn't\": \"did not\",\n",
    "\"doesn't\": \"does not\",\n",
    "\"don't\": \"do not\",\n",
    "\"hadn't\": \"had not\",\n",
    "\"hadn't've\": \"had not have\",\n",
    "\"hasn't\": \"has not\",\n",
    "\"haven't\": \"have not\",\n",
    "\"he'd\": \"he had / he would\",\n",
    "\"he'd've\": \"he would have\",\n",
    "\"he'll\": \"he shall / he will\",\n",
    "\"he'll've\": \"he shall have / he will have\",\n",
    "\"he's\": \"he has / he is\",\n",
    "\"how'd\": \"how did\",\n",
    "\"how'd'y\": \"how do you\",\n",
    "\"how'll\": \"how will\",\n",
    "\"how's\": \"how has / how is / how does\",\n",
    "\"I'd\": \"I had / I would\",\n",
    "\"I'd've\": \"I would have\",\n",
    "\"I'll\": \"I shall / I will\",\n",
    "\"I'll've\": \"I shall have / I will have\",\n",
    "\"I'm\": \"I am\",\n",
    "\"I've\": \"I have\",\n",
    "\"isn't\": \"is not\",\n",
    "\"it'd\": \"it had / it would\",\n",
    "\"it'd've\": \"it would have\",\n",
    "\"it'll\": \"it shall / it will\",\n",
    "\"it'll've\": \"it shall have / it will have\",\n",
    "\"it's\": \"it has / it is\",\n",
    "\"let's\": \"let us\",\n",
    "\"ma'am\": \"madam\",\n",
    "\"mayn't\": \"may not\",\n",
    "\"might've\": \"might have\",\n",
    "\"mightn't\": \"might not\",\n",
    "\"mightn't've\": \"might not have\",\n",
    "\"must've\": \"must have\",\n",
    "\"mustn't\": \"must not\",\n",
    "\"mustn't've\": \"must not have\",\n",
    "\"needn't\": \"need not\",\n",
    "\"needn't've\": \"need not have\",\n",
    "\"o'clock\": \"of the clock\",\n",
    "\"oughtn't\": \"ought not\",\n",
    "\"oughtn't've\": \"ought not have\",\n",
    "\"shan't\": \"shall not\",\n",
    "\"sha'n't\": \"shall not\",\n",
    "\"shan't've\": \"shall not have\",\n",
    "\"she'd\": \"she had / she would\",\n",
    "\"she'd've\": \"she would have\",\n",
    "\"she'll\": \"she shall / she will\",\n",
    "\"she'll've\": \"she shall have / she will have\",\n",
    "\"she's\": \"she has / she is\",\n",
    "\"should've\": \"should have\",\n",
    "\"shouldn't\": \"should not\",\n",
    "\"shouldn't've\": \"should not have\",\n",
    "\"so've\": \"so have\",\n",
    "\"so's\": \"so as / so is\",\n",
    "\"that'd\": \"that would / that had\",\n",
    "\"that'd've\": \"that would have\",\n",
    "\"that's\": \"that has / that is\",\n",
    "\"there'd\": \"there had / there would\",\n",
    "\"there'd've\": \"there would have\",\n",
    "\"there's\": \"there has / there is\",\n",
    "\"they'd\": \"they had / they would\",\n",
    "\"they'd've\": \"they would have\",\n",
    "\"they'll\": \"they shall / they will\",\n",
    "\"they'll've\": \"they shall have / they will have\",\n",
    "\"they're\": \"they are\",\n",
    "\"they've\": \"they have\",\n",
    "\"to've\": \"to have\",\n",
    "\"wasn't\": \"was not\",\n",
    "\"we'd\": \"we had / we would\",\n",
    "\"we'd've\": \"we would have\",\n",
    "\"we'll\": \"we will\",\n",
    "\"we'll've\": \"we will have\",\n",
    "\"we're\": \"we are\",\n",
    "\"we've\": \"we have\",\n",
    "\"weren't\": \"were not\",\n",
    "\"what'll\": \"what shall / what will\",\n",
    "\"what'll've\": \"what shall have / what will have\",\n",
    "\"what're\": \"what are\",\n",
    "\"what's\": \"what has / what is\",\n",
    "\"what've\": \"what have\",\n",
    "\"when's\": \"when has / when is\",\n",
    "\"when've\": \"when have\",\n",
    "\"where'd\": \"where did\",\n",
    "\"where's\": \"where has / where is\",\n",
    "\"where've\": \"where have\",\n",
    "\"who'll\": \"who shall / who will\",\n",
    "\"who'll've\": \"who shall have / who will have\",\n",
    "\"who's\": \"who has / who is\",\n",
    "\"who've\": \"who have\",\n",
    "\"why's\": \"why has / why is\",\n",
    "\"why've\": \"why have\",\n",
    "\"will've\": \"will have\",\n",
    "\"won't\": \"will not\",\n",
    "\"won't've\": \"will not have\",\n",
    "\"would've\": \"would have\",\n",
    "\"wouldn't\": \"would not\",\n",
    "\"wouldn't've\": \"would not have\",\n",
    "\"y'all\": \"you all\",\n",
    "\"y'all'd\": \"you all would\",\n",
    "\"y'all'd've\": \"you all would have\",\n",
    "\"y'all're\": \"you all are\",\n",
    "\"y'all've\": \"you all have\",\n",
    "\"you'd\": \"you had / you would\",\n",
    "\"you'd've\": \"you would have\",\n",
    "\"you'll\": \"you shall / you will\",\n",
    "\"you'll've\": \"you shall have / you will have\",\n",
    "\"you're\": \"you are\",\n",
    "\"you've\": \"you have\"\n",
    "}\n",
    "\n",
    "def expand_contractions(text):\n",
    "    # Regular expression pattern to match contractions\n",
    "    contraction_pattern = re.compile('({})'.format('|'.join(contractions.keys())), \n",
    "                                     flags=re.IGNORECASE | re.DOTALL)\n",
    "    \n",
    "    # Function to replace contractions with their expansions\n",
    "    def expand_match(contraction):\n",
    "        match = contraction.group(0)\n",
    "        expanded = contractions.get(match.lower(), contractions.get(match.upper()))\n",
    "        return expanded\n",
    "    \n",
    "    # Replace contractions with expansions\n",
    "    expanded_text = contraction_pattern.sub(expand_match, text)\n",
    "    return expanded_text\n",
    "\n",
    "def remove_punctuation(data):\n",
    "    # remove <, and > from text\n",
    "    data = re.sub('<[^>]*', '', str(data))\n",
    "    # remove punctuation and extra spaces\n",
    "    data = re.sub('[^\\w\\s]+',' ',data.lower())\n",
    "    # remove numbers\n",
    "    data = re.sub('[0-9]', '', data)\n",
    "    return data\n",
    "\n",
    "def handle_elongated_words(text, max_repeated=2):\n",
    "    # Define a regular expression pattern to match elongated words\n",
    "    elongated_pattern = re.compile(r\"(.)\\1{\" + str(max_repeated) + r\",}\")\n",
    "    \n",
    "    # Replace elongated words with their non-elongated form\n",
    "    def replace(match):\n",
    "        return match.group(1)\n",
    "    \n",
    "    return re.sub(elongated_pattern, replace, text)"
   ]
  },
  {
   "cell_type": "code",
   "execution_count": 8,
   "id": "43211d64",
   "metadata": {
    "execution": {
     "iopub.execute_input": "2024-05-06T07:06:42.570666Z",
     "iopub.status.busy": "2024-05-06T07:06:42.569026Z",
     "iopub.status.idle": "2024-05-06T07:06:44.985369Z",
     "shell.execute_reply": "2024-05-06T07:06:44.983695Z"
    },
    "papermill": {
     "duration": 2.431134,
     "end_time": "2024-05-06T07:06:44.988681",
     "exception": false,
     "start_time": "2024-05-06T07:06:42.557547",
     "status": "completed"
    },
    "tags": []
   },
   "outputs": [
    {
     "name": "stdout",
     "output_type": "stream",
     "text": [
      "[nltk_data] Downloading package stopwords to /usr/share/nltk_data...\n",
      "[nltk_data]   Package stopwords is already up-to-date!\n"
     ]
    }
   ],
   "source": [
    "import nltk\n",
    "from nltk.corpus import stopwords\n",
    "from nltk.tokenize import word_tokenize\n",
    "\n",
    "nltk.download('stopwords')\n",
    "stop_words = stopwords.words('english')\n",
    "\n",
    "def remove_stopwords(text):\n",
    "    stop_words = set(stopwords.words('english'))\n",
    "    word_tokens = word_tokenize(text)\n",
    "    filtered_text = [word for word in word_tokens if word.lower() not in stop_words]\n",
    "    return ' '.join(filtered_text)"
   ]
  },
  {
   "cell_type": "code",
   "execution_count": 9,
   "id": "ca4516ce",
   "metadata": {
    "execution": {
     "iopub.execute_input": "2024-05-06T07:06:45.008123Z",
     "iopub.status.busy": "2024-05-06T07:06:45.007681Z",
     "iopub.status.idle": "2024-05-06T07:07:22.620471Z",
     "shell.execute_reply": "2024-05-06T07:07:22.618776Z"
    },
    "papermill": {
     "duration": 37.626564,
     "end_time": "2024-05-06T07:07:22.623845",
     "exception": false,
     "start_time": "2024-05-06T07:06:44.997281",
     "status": "completed"
    },
    "tags": []
   },
   "outputs": [],
   "source": [
    "df_train['Review_Text'] = df_train['Review_Text'].apply(lambda x: x.lower())\n",
    "df_train['Review_Text'] = df_train['Review_Text'].apply(expand_contractions)\n",
    "# df_train['Review_Text'] = df_train['Review_Text'].apply(handle_elongated_words)\n",
    "df_train['Review_Text'] = df_train['Review_Text'].apply(remove_punctuation)\n",
    "df_train['Review_Text'] = df_train['Review_Text'].apply(remove_stopwords)"
   ]
  },
  {
   "cell_type": "code",
   "execution_count": 10,
   "id": "8c9663a6",
   "metadata": {
    "execution": {
     "iopub.execute_input": "2024-05-06T07:07:22.643440Z",
     "iopub.status.busy": "2024-05-06T07:07:22.642404Z",
     "iopub.status.idle": "2024-05-06T07:07:22.653992Z",
     "shell.execute_reply": "2024-05-06T07:07:22.652830Z"
    },
    "papermill": {
     "duration": 0.023758,
     "end_time": "2024-05-06T07:07:22.656276",
     "exception": false,
     "start_time": "2024-05-06T07:07:22.632518",
     "status": "completed"
    },
    "tags": []
   },
   "outputs": [
    {
     "data": {
      "text/html": [
       "<div>\n",
       "<style scoped>\n",
       "    .dataframe tbody tr th:only-of-type {\n",
       "        vertical-align: middle;\n",
       "    }\n",
       "\n",
       "    .dataframe tbody tr th {\n",
       "        vertical-align: top;\n",
       "    }\n",
       "\n",
       "    .dataframe thead th {\n",
       "        text-align: right;\n",
       "    }\n",
       "</style>\n",
       "<table border=\"1\" class=\"dataframe\">\n",
       "  <thead>\n",
       "    <tr style=\"text-align: right;\">\n",
       "      <th></th>\n",
       "      <th>Review_Text</th>\n",
       "    </tr>\n",
       "  </thead>\n",
       "  <tbody>\n",
       "    <tr>\n",
       "      <th>0</th>\n",
       "      <td>absolutely wonderful silky sexy comfortable</td>\n",
       "    </tr>\n",
       "    <tr>\n",
       "      <th>1</th>\n",
       "      <td>love dress sooo pretty happened find store gla...</td>\n",
       "    </tr>\n",
       "    <tr>\n",
       "      <th>2</th>\n",
       "      <td>high hopes dress really wanted work initially ...</td>\n",
       "    </tr>\n",
       "    <tr>\n",
       "      <th>3</th>\n",
       "      <td>love love love jumpsuit fun flirty fabulous ev...</td>\n",
       "    </tr>\n",
       "    <tr>\n",
       "      <th>4</th>\n",
       "      <td>shirt flattering due adjustable front tie perf...</td>\n",
       "    </tr>\n",
       "  </tbody>\n",
       "</table>\n",
       "</div>"
      ],
      "text/plain": [
       "                                         Review_Text\n",
       "0        absolutely wonderful silky sexy comfortable\n",
       "1  love dress sooo pretty happened find store gla...\n",
       "2  high hopes dress really wanted work initially ...\n",
       "3  love love love jumpsuit fun flirty fabulous ev...\n",
       "4  shirt flattering due adjustable front tie perf..."
      ]
     },
     "execution_count": 10,
     "metadata": {},
     "output_type": "execute_result"
    }
   ],
   "source": [
    "df_train.head()"
   ]
  },
  {
   "cell_type": "code",
   "execution_count": 11,
   "id": "4e2ffe72",
   "metadata": {
    "execution": {
     "iopub.execute_input": "2024-05-06T07:07:22.675142Z",
     "iopub.status.busy": "2024-05-06T07:07:22.674629Z",
     "iopub.status.idle": "2024-05-06T07:07:22.681843Z",
     "shell.execute_reply": "2024-05-06T07:07:22.679890Z"
    },
    "papermill": {
     "duration": 0.019523,
     "end_time": "2024-05-06T07:07:22.684151",
     "exception": false,
     "start_time": "2024-05-06T07:07:22.664628",
     "status": "completed"
    },
    "tags": []
   },
   "outputs": [
    {
     "name": "stdout",
     "output_type": "stream",
     "text": [
      "Love this dress!  it's sooo pretty.  i happened to find it in a store, and i'm glad i did bc i never would have ordered it online bc it's petite.  i bought a petite and am 5'8\".  i love the length on me- hits just a little below the knee.  would definitely be a true midi on someone who is truly petite.\n"
     ]
    }
   ],
   "source": [
    "print(df['Review_Text'][1])"
   ]
  },
  {
   "cell_type": "code",
   "execution_count": 12,
   "id": "29cd1837",
   "metadata": {
    "execution": {
     "iopub.execute_input": "2024-05-06T07:07:22.703350Z",
     "iopub.status.busy": "2024-05-06T07:07:22.702125Z",
     "iopub.status.idle": "2024-05-06T07:07:22.709144Z",
     "shell.execute_reply": "2024-05-06T07:07:22.707975Z"
    },
    "papermill": {
     "duration": 0.019159,
     "end_time": "2024-05-06T07:07:22.711533",
     "exception": false,
     "start_time": "2024-05-06T07:07:22.692374",
     "status": "completed"
    },
    "tags": []
   },
   "outputs": [
    {
     "name": "stdout",
     "output_type": "stream",
     "text": [
      "love dress sooo pretty happened find store glad bc never would ordered online bc petite bought petite love length hits little knee would definitely true midi someone truly petite\n"
     ]
    }
   ],
   "source": [
    "print(df_train['Review_Text'][1])"
   ]
  },
  {
   "cell_type": "markdown",
   "id": "1a31af81",
   "metadata": {
    "papermill": {
     "duration": 0.00857,
     "end_time": "2024-05-06T07:07:22.728470",
     "exception": false,
     "start_time": "2024-05-06T07:07:22.719900",
     "status": "completed"
    },
    "tags": []
   },
   "source": [
    "# Vader and Textblob"
   ]
  },
  {
   "cell_type": "code",
   "execution_count": 13,
   "id": "a3997e72",
   "metadata": {
    "execution": {
     "iopub.execute_input": "2024-05-06T07:07:22.747041Z",
     "iopub.status.busy": "2024-05-06T07:07:22.746568Z",
     "iopub.status.idle": "2024-05-06T07:07:40.100025Z",
     "shell.execute_reply": "2024-05-06T07:07:40.098549Z"
    },
    "papermill": {
     "duration": 17.366311,
     "end_time": "2024-05-06T07:07:40.103080",
     "exception": false,
     "start_time": "2024-05-06T07:07:22.736769",
     "status": "completed"
    },
    "tags": []
   },
   "outputs": [
    {
     "name": "stdout",
     "output_type": "stream",
     "text": [
      "Collecting vaderSentiment\r\n",
      "  Downloading vaderSentiment-3.3.2-py2.py3-none-any.whl.metadata (572 bytes)\r\n",
      "Requirement already satisfied: requests in /opt/conda/lib/python3.10/site-packages (from vaderSentiment) (2.31.0)\r\n",
      "Requirement already satisfied: charset-normalizer<4,>=2 in /opt/conda/lib/python3.10/site-packages (from requests->vaderSentiment) (3.3.2)\r\n",
      "Requirement already satisfied: idna<4,>=2.5 in /opt/conda/lib/python3.10/site-packages (from requests->vaderSentiment) (3.6)\r\n",
      "Requirement already satisfied: urllib3<3,>=1.21.1 in /opt/conda/lib/python3.10/site-packages (from requests->vaderSentiment) (1.26.18)\r\n",
      "Requirement already satisfied: certifi>=2017.4.17 in /opt/conda/lib/python3.10/site-packages (from requests->vaderSentiment) (2024.2.2)\r\n",
      "Downloading vaderSentiment-3.3.2-py2.py3-none-any.whl (125 kB)\r\n",
      "\u001b[2K   \u001b[90m━━━━━━━━━━━━━━━━━━━━━━━━━━━━━━━━━━━━━━━━\u001b[0m \u001b[32m126.0/126.0 kB\u001b[0m \u001b[31m3.0 MB/s\u001b[0m eta \u001b[36m0:00:00\u001b[0m\r\n",
      "\u001b[?25hInstalling collected packages: vaderSentiment\r\n",
      "Successfully installed vaderSentiment-3.3.2\r\n"
     ]
    }
   ],
   "source": [
    "!pip install vaderSentiment"
   ]
  },
  {
   "cell_type": "code",
   "execution_count": 14,
   "id": "c40a2240",
   "metadata": {
    "execution": {
     "iopub.execute_input": "2024-05-06T07:07:40.126536Z",
     "iopub.status.busy": "2024-05-06T07:07:40.124787Z",
     "iopub.status.idle": "2024-05-06T07:07:40.155213Z",
     "shell.execute_reply": "2024-05-06T07:07:40.153810Z"
    },
    "papermill": {
     "duration": 0.045627,
     "end_time": "2024-05-06T07:07:40.158171",
     "exception": false,
     "start_time": "2024-05-06T07:07:40.112544",
     "status": "completed"
    },
    "tags": []
   },
   "outputs": [],
   "source": [
    "from vaderSentiment.vaderSentiment import SentimentIntensityAnalyzer\n",
    "vader = SentimentIntensityAnalyzer()"
   ]
  },
  {
   "cell_type": "code",
   "execution_count": 15,
   "id": "f15b08d3",
   "metadata": {
    "execution": {
     "iopub.execute_input": "2024-05-06T07:07:40.178345Z",
     "iopub.status.busy": "2024-05-06T07:07:40.177919Z",
     "iopub.status.idle": "2024-05-06T07:07:40.236878Z",
     "shell.execute_reply": "2024-05-06T07:07:40.235746Z"
    },
    "papermill": {
     "duration": 0.072124,
     "end_time": "2024-05-06T07:07:40.239543",
     "exception": false,
     "start_time": "2024-05-06T07:07:40.167419",
     "status": "completed"
    },
    "tags": []
   },
   "outputs": [],
   "source": [
    "from textblob import TextBlob\n",
    "def detect_tb_polarity(text):\n",
    "    return TextBlob(text).sentiment.polarity\n",
    "\n",
    "def detect_vader_comp(text):\n",
    "    return vader.polarity_scores(text)['compound']"
   ]
  },
  {
   "cell_type": "code",
   "execution_count": 16,
   "id": "e974e951",
   "metadata": {
    "execution": {
     "iopub.execute_input": "2024-05-06T07:07:40.260231Z",
     "iopub.status.busy": "2024-05-06T07:07:40.259696Z",
     "iopub.status.idle": "2024-05-06T07:07:58.774760Z",
     "shell.execute_reply": "2024-05-06T07:07:58.773263Z"
    },
    "papermill": {
     "duration": 18.529082,
     "end_time": "2024-05-06T07:07:58.777859",
     "exception": false,
     "start_time": "2024-05-06T07:07:40.248777",
     "status": "completed"
    },
    "tags": []
   },
   "outputs": [],
   "source": [
    "df_train_1 = df_train.copy()\n",
    "df_train_1['tb_polarity'] = df_train_1['Review_Text'].apply(detect_tb_polarity)\n",
    "df_train_1['vader_comp'] = df_train_1['Review_Text'].apply(detect_vader_comp)"
   ]
  },
  {
   "cell_type": "code",
   "execution_count": 17,
   "id": "afb3542f",
   "metadata": {
    "execution": {
     "iopub.execute_input": "2024-05-06T07:07:58.799233Z",
     "iopub.status.busy": "2024-05-06T07:07:58.798113Z",
     "iopub.status.idle": "2024-05-06T07:07:58.815201Z",
     "shell.execute_reply": "2024-05-06T07:07:58.814079Z"
    },
    "papermill": {
     "duration": 0.030676,
     "end_time": "2024-05-06T07:07:58.817821",
     "exception": false,
     "start_time": "2024-05-06T07:07:58.787145",
     "status": "completed"
    },
    "tags": []
   },
   "outputs": [
    {
     "data": {
      "text/html": [
       "<div>\n",
       "<style scoped>\n",
       "    .dataframe tbody tr th:only-of-type {\n",
       "        vertical-align: middle;\n",
       "    }\n",
       "\n",
       "    .dataframe tbody tr th {\n",
       "        vertical-align: top;\n",
       "    }\n",
       "\n",
       "    .dataframe thead th {\n",
       "        text-align: right;\n",
       "    }\n",
       "</style>\n",
       "<table border=\"1\" class=\"dataframe\">\n",
       "  <thead>\n",
       "    <tr style=\"text-align: right;\">\n",
       "      <th></th>\n",
       "      <th>Review_Text</th>\n",
       "      <th>tb_polarity</th>\n",
       "      <th>vader_comp</th>\n",
       "    </tr>\n",
       "  </thead>\n",
       "  <tbody>\n",
       "    <tr>\n",
       "      <th>0</th>\n",
       "      <td>absolutely wonderful silky sexy comfortable</td>\n",
       "      <td>0.633333</td>\n",
       "      <td>0.8991</td>\n",
       "    </tr>\n",
       "    <tr>\n",
       "      <th>1</th>\n",
       "      <td>love dress sooo pretty happened find store gla...</td>\n",
       "      <td>0.318750</td>\n",
       "      <td>0.9710</td>\n",
       "    </tr>\n",
       "    <tr>\n",
       "      <th>2</th>\n",
       "      <td>high hopes dress really wanted work initially ...</td>\n",
       "      <td>0.082300</td>\n",
       "      <td>0.9062</td>\n",
       "    </tr>\n",
       "    <tr>\n",
       "      <th>3</th>\n",
       "      <td>love love love jumpsuit fun flirty fabulous ev...</td>\n",
       "      <td>0.500000</td>\n",
       "      <td>0.9464</td>\n",
       "    </tr>\n",
       "    <tr>\n",
       "      <th>4</th>\n",
       "      <td>shirt flattering due adjustable front tie perf...</td>\n",
       "      <td>0.458333</td>\n",
       "      <td>0.9062</td>\n",
       "    </tr>\n",
       "  </tbody>\n",
       "</table>\n",
       "</div>"
      ],
      "text/plain": [
       "                                         Review_Text  tb_polarity  vader_comp\n",
       "0        absolutely wonderful silky sexy comfortable     0.633333      0.8991\n",
       "1  love dress sooo pretty happened find store gla...     0.318750      0.9710\n",
       "2  high hopes dress really wanted work initially ...     0.082300      0.9062\n",
       "3  love love love jumpsuit fun flirty fabulous ev...     0.500000      0.9464\n",
       "4  shirt flattering due adjustable front tie perf...     0.458333      0.9062"
      ]
     },
     "execution_count": 17,
     "metadata": {},
     "output_type": "execute_result"
    }
   ],
   "source": [
    "df_train_1.head()"
   ]
  }
 ],
 "metadata": {
  "kaggle": {
   "accelerator": "none",
   "dataSources": [
    {
     "datasetId": 11827,
     "sourceId": 16290,
     "sourceType": "datasetVersion"
    }
   ],
   "dockerImageVersionId": 30698,
   "isGpuEnabled": false,
   "isInternetEnabled": true,
   "language": "python",
   "sourceType": "notebook"
  },
  "kernelspec": {
   "display_name": "Python 3",
   "language": "python",
   "name": "python3"
  },
  "language_info": {
   "codemirror_mode": {
    "name": "ipython",
    "version": 3
   },
   "file_extension": ".py",
   "mimetype": "text/x-python",
   "name": "python",
   "nbconvert_exporter": "python",
   "pygments_lexer": "ipython3",
   "version": "3.10.13"
  },
  "papermill": {
   "default_parameters": {},
   "duration": 82.136565,
   "end_time": "2024-05-06T07:07:59.651908",
   "environment_variables": {},
   "exception": null,
   "input_path": "__notebook__.ipynb",
   "output_path": "__notebook__.ipynb",
   "parameters": {},
   "start_time": "2024-05-06T07:06:37.515343",
   "version": "2.5.0"
  }
 },
 "nbformat": 4,
 "nbformat_minor": 5
}
